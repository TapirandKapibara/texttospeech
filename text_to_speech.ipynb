{
 "cells": [
  {
   "cell_type": "markdown",
   "metadata": {},
   "source": [
    "### Very simple text to speech app ###\n",
    "***"
   ]
  },
  {
   "cell_type": "code",
   "execution_count": 1,
   "metadata": {},
   "outputs": [],
   "source": [
    "import warnings\n",
    "warnings.filterwarnings(\"ignore\")\n",
    "import pyttsx3 # Импортирую \n",
    "import ipywidgets as widgets # Виджеты\n",
    "from ipywidgets import Button, Layout # дихайн кнопки\n",
    "import base64 # Код ссылки\n",
    "from IPython.display import HTML # \n",
    "output = widgets.Output()\n",
    "title = \"Click here to download\"\n",
    "filename = \"your_file.mp3\""
   ]
  },
  {
   "cell_type": "code",
   "execution_count": 2,
   "metadata": {},
   "outputs": [
    {
     "data": {
      "application/vnd.jupyter.widget-view+json": {
       "model_id": "e754644f6ba745feaa65358a15d1e099",
       "version_major": 2,
       "version_minor": 0
      },
      "text/plain": [
       "HTML(value='<b> Enter the your text below</b>')"
      ]
     },
     "metadata": {},
     "output_type": "display_data"
    },
    {
     "data": {
      "application/vnd.jupyter.widget-view+json": {
       "model_id": "9348df3476c8442c812e215196281c5c",
       "version_major": 2,
       "version_minor": 0
      },
      "text/plain": [
       "Textarea(value='', description='Your text:', placeholder='Input your text please, Drag the corner to make the …"
      ]
     },
     "metadata": {},
     "output_type": "display_data"
    },
    {
     "data": {
      "application/vnd.jupyter.widget-view+json": {
       "model_id": "8bf3cde061844a02aee7629646d7cce1",
       "version_major": 2,
       "version_minor": 0
      },
      "text/plain": [
       "HTML(value='<b> Choose the volume, drag slider or type the number</b>')"
      ]
     },
     "metadata": {},
     "output_type": "display_data"
    },
    {
     "data": {
      "application/vnd.jupyter.widget-view+json": {
       "model_id": "0f4461a345b346cc8c3ca60310e0fe7c",
       "version_major": 2,
       "version_minor": 0
      },
      "text/plain": [
       "FloatSlider(value=0.8, continuous_update=False, description='Volume', max=1.0, readout_format='.1f')"
      ]
     },
     "metadata": {},
     "output_type": "display_data"
    },
    {
     "data": {
      "application/vnd.jupyter.widget-view+json": {
       "model_id": "3db22ba179a841c3aec3ff0d9579f67f",
       "version_major": 2,
       "version_minor": 0
      },
      "text/plain": [
       "HTML(value='<b> Choose the rate</b>')"
      ]
     },
     "metadata": {},
     "output_type": "display_data"
    },
    {
     "data": {
      "application/vnd.jupyter.widget-view+json": {
       "model_id": "7c4226d4031b4c05ab699d6d5e21f3e4",
       "version_major": 2,
       "version_minor": 0
      },
      "text/plain": [
       "IntSlider(value=150, continuous_update=False, description='Rate', max=600, min=10)"
      ]
     },
     "metadata": {},
     "output_type": "display_data"
    },
    {
     "data": {
      "application/vnd.jupyter.widget-view+json": {
       "model_id": "fba2ebdc6e7a484497f2a5e33e1c3678",
       "version_major": 2,
       "version_minor": 0
      },
      "text/plain": [
       "FloatText(value=0.0)"
      ]
     },
     "metadata": {},
     "output_type": "display_data"
    },
    {
     "data": {
      "application/vnd.jupyter.widget-view+json": {
       "model_id": "cc3e621b31bb4728bce03c47eecfc745",
       "version_major": 2,
       "version_minor": 0
      },
      "text/plain": [
       "RadioButtons(description='Voice:', options=('Female', 'Male'), value='Female')"
      ]
     },
     "metadata": {},
     "output_type": "display_data"
    },
    {
     "data": {
      "application/vnd.jupyter.widget-view+json": {
       "model_id": "1df9ccf49c694cc0a9cba0b193f10e29",
       "version_major": 2,
       "version_minor": 0
      },
      "text/plain": [
       "HTML(value='<b> Choose if you want to play the audio after its production</b>')"
      ]
     },
     "metadata": {},
     "output_type": "display_data"
    },
    {
     "data": {
      "application/vnd.jupyter.widget-view+json": {
       "model_id": "93b5afd550394dbcb492a0e4c27f13f5",
       "version_major": 2,
       "version_minor": 0
      },
      "text/plain": [
       "Checkbox(value=True, description='Play audio after generating')"
      ]
     },
     "metadata": {},
     "output_type": "display_data"
    },
    {
     "data": {
      "application/vnd.jupyter.widget-view+json": {
       "model_id": "c1eb57f77b35456cab38e40d4f9fd414",
       "version_major": 2,
       "version_minor": 0
      },
      "text/plain": [
       "Button(description='Submit', icon='volume-up', layout=Layout(border='5px solid blue', height='45px', width='10…"
      ]
     },
     "metadata": {},
     "output_type": "display_data"
    },
    {
     "data": {
      "application/vnd.jupyter.widget-view+json": {
       "model_id": "20bd72ad5bdc43ad9a090de40207acf8",
       "version_major": 2,
       "version_minor": 0
      },
      "text/plain": [
       "Output()"
      ]
     },
     "metadata": {},
     "output_type": "display_data"
    }
   ],
   "source": [
    "@output.capture(clear_output=True,wait=True)\n",
    "def speech_text(b):\n",
    "    gen_spek = str(gender_speaker.value)\n",
    "    if gen_spek == 'Female':\n",
    "        a = 1\n",
    "    elif gen_spek == 'Male':\n",
    "        a = 0\n",
    "    statement = str(statm.value)\n",
    "    # Основной код\n",
    "    engine = pyttsx3.init() # Инициирую\n",
    "    engine.setProperty('rate', voice_rate.value) # скорость\n",
    "    engine.setProperty('volume',voice_volume.value) # громкость\n",
    "    voices = engine.getProperty('voices')\n",
    "    engine.setProperty('voice', voices[a].id)  #changing index, changes voices. o for male\n",
    "    if audio_play.value == True:\n",
    "        engine.say(statement) #текст\n",
    "    engine.runAndWait() # походу что бы сразу весь текст не читало\n",
    "    engine.save_to_file(statement , 'your_file.mp3')\n",
    "    engine.runAndWait()\n",
    "    \n",
    "    # creating the link\n",
    "    data = open(filename, \"rb\").read()\n",
    "    b64 = base64.b64encode(data)\n",
    "    payload = b64.decode()\n",
    "    \n",
    "    html = '<a download=\"your_file.mp3\" href=\"data:text/xlsx;base64,{payload}\" target=\"_blank\"><button>{title}</button></a>'\n",
    "    another = html.format(payload=payload,title='Click here to download',filename=filename)\n",
    "    display(HTML(another))\n",
    "    \n",
    "run_button = widgets.Button(\n",
    "      description = 'Submit', icon='volume-up', layout=Layout(width='10%', height='45px', border='5px solid blue')\n",
    ")\n",
    "y = widgets.HTML(\n",
    "    value=\"<b> Enter the your text below</b>\")\n",
    "display(y)\n",
    "\n",
    "statm = widgets.Textarea(\n",
    "    placeholder='Input your text please, Drag the corner to make the text area larger', description='Your text:', disabled=False)\n",
    "display(statm)\n",
    "gender_speaker = widgets.RadioButtons(\n",
    "    options=['Female', 'Male'],\n",
    "    description='Voice:',\n",
    "    disabled=False)\n",
    "\n",
    "voice_rate = widgets.IntSlider(value = 150, min=10, max=600, step=1,description='Rate', disabled=False, continuous_update=False,\n",
    "    orientation='horizontal',\n",
    "    readout=True,\n",
    "    readout_format='d'\n",
    ")\n",
    "audio_play = widgets.Checkbox(\n",
    "    value=True,\n",
    "    description='Play audio after generating',\n",
    "    disabled=False,\n",
    "    indent=True\n",
    ")\n",
    "voice_volume = widgets.FloatSlider(value = 0.8, min=0, max=1.0, step=0.1, description='Volume', disabled=False, continuous_update=False,\n",
    "    orientation='horizontal',\n",
    "    readout=True,\n",
    "    readout_format ='.1f')\n",
    "x = widgets.HTML(\n",
    "    value=\"<b> Choose the volume</b>\")\n",
    "display(x)\n",
    "display(voice_volume)\n",
    "\n",
    "z = widgets.HTML(\n",
    "    value=\"<b> Choose the rate, drag slider or type the number</b>\")\n",
    "display(z)\n",
    "display(voice_rate)\n",
    "\n",
    "to_type = widgets.FloatText()\n",
    "display(to_type)\n",
    "mylink = widgets.jslink((voice_rate, 'value'), (to_type, 'value'))\n",
    "k = widgets.HTML(\n",
    "    value=\"<b> Choose voice</b>\")\n",
    "display(k)\n",
    "display(gender_speaker)\n",
    "w = widgets.HTML(\n",
    "    value=\"<b> Choose if you want to play the audio after its production</b>\")\n",
    "display(w)\n",
    "display(audio_play)\n",
    "run_button.on_click(speech_text)\n",
    "display(run_button)\n",
    "output\n"
   ]
  },
  {
   "cell_type": "markdown",
   "metadata": {},
   "source": [
    "<span style =\"color:blue\"> To start from scratch refresh the window or use the <b> RESET BUTTON</b></span>\n",
    "<button onClick=\"window.location.reload();\">Reset</button>"
   ]
  },
  {
   "cell_type": "markdown",
   "metadata": {},
   "source": [
    "***"
   ]
  },
  {
   "cell_type": "code",
   "execution_count": null,
   "metadata": {},
   "outputs": [],
   "source": []
  }
 ],
 "metadata": {
  "kernelspec": {
   "display_name": "Python 3",
   "language": "python",
   "name": "python3"
  },
  "language_info": {
   "codemirror_mode": {
    "name": "ipython",
    "version": 3
   },
   "file_extension": ".py",
   "mimetype": "text/x-python",
   "name": "python",
   "nbconvert_exporter": "python",
   "pygments_lexer": "ipython3",
   "version": "3.8.5"
  }
 },
 "nbformat": 4,
 "nbformat_minor": 4
}
